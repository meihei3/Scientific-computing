{
 "cells": [
  {
   "cell_type": "markdown",
   "metadata": {},
   "source": [
    "# ガウス・ジョルダン法\n",
    "***"
   ]
  },
  {
   "cell_type": "code",
   "execution_count": 1,
   "metadata": {
    "collapsed": true
   },
   "outputs": [],
   "source": [
    "import math\n",
    "import numpy as np"
   ]
  },
  {
   "cell_type": "markdown",
   "metadata": {},
   "source": [
    "n: 次数  \n",
    "A: とりあえずの配列"
   ]
  },
  {
   "cell_type": "code",
   "execution_count": 46,
   "metadata": {
    "collapsed": true
   },
   "outputs": [],
   "source": [
    "n = 4\n",
    "A = np.asarray([[1,1,0,3,2],[3,1,-9,-4,1],[-1,1,5,2,7],[3,2,-1,8,3]], dtype=np.float64)"
   ]
  },
  {
   "cell_type": "code",
   "execution_count": 47,
   "metadata": {
    "scrolled": true
   },
   "outputs": [
    {
     "name": "stdout",
     "output_type": "stream",
     "text": [
      "[[  1.   1.   0.   3.   2.]\n",
      " [  0.  -2.  -9. -13.  -5.]\n",
      " [  0.   2.   5.   5.   9.]\n",
      " [  0.  -1.  -1.  -1.  -3.]]\n",
      "[[ 1.   0.  -4.5 -3.5 -0.5]\n",
      " [ 0.   1.   4.5  6.5  2.5]\n",
      " [ 0.   0.  -4.  -8.   4. ]\n",
      " [ 0.   0.   3.5  5.5 -0.5]]\n",
      "[[ 1.   0.   0.   5.5 -5. ]\n",
      " [ 0.   1.   0.  -2.5  7. ]\n",
      " [ 0.   0.   1.   2.  -1. ]\n",
      " [ 0.   0.   0.  -1.5  3. ]]\n",
      "[[ 1.  0.  0.  0.  6.]\n",
      " [ 0.  1.  0.  0.  2.]\n",
      " [ 0.  0.  1.  0.  3.]\n",
      " [ 0.  0.  0.  1. -2.]]\n"
     ]
    }
   ],
   "source": [
    "for k in range(n):\n",
    "    f = A[k, k]\n",
    "    for p in range(k, n+1):\n",
    "        A[k, p] = A[k, p] / f\n",
    "    for q in range(n):\n",
    "        g = A[q, k]\n",
    "        if(q != k):\n",
    "            for r in range(k, n+1):\n",
    "                A[q, r] = A[q, r] -g *A[k, r]\n",
    "    print(A)"
   ]
  },
  {
   "cell_type": "code",
   "execution_count": null,
   "metadata": {
    "collapsed": true
   },
   "outputs": [],
   "source": []
  }
 ],
 "metadata": {
  "kernelspec": {
   "display_name": "Python 3",
   "language": "python",
   "name": "python3"
  },
  "language_info": {
   "codemirror_mode": {
    "name": "ipython",
    "version": 3
   },
   "file_extension": ".py",
   "mimetype": "text/x-python",
   "name": "python",
   "nbconvert_exporter": "python",
   "pygments_lexer": "ipython3",
   "version": "3.6.2"
  }
 },
 "nbformat": 4,
 "nbformat_minor": 2
}
