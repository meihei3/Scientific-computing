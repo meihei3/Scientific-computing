{
 "cells": [
  {
   "cell_type": "markdown",
   "metadata": {},
   "source": [
    "# 最小二乗法（直線）\n",
    "***"
   ]
  },
  {
   "cell_type": "markdown",
   "metadata": {},
   "source": [
    "$n個の(x_i, y_i)となるデータからもっともらしい直線を導く$  \n",
    "この時  \n",
    "$傾き：A=\\frac{Cov(X,Y)}{\\sigma_X^2}\\\\切片：B=\\mu_y-A\\mu_x$  \n",
    "となる$y=Ax+B$の直線が引ける"
   ]
  },
  {
   "cell_type": "code",
   "execution_count": 1,
   "metadata": {
    "ExecuteTime": {
     "end_time": "2019-02-13T01:45:42.222632Z",
     "start_time": "2019-02-13T01:45:42.214699Z"
    },
    "collapsed": true
   },
   "outputs": [],
   "source": [
    "data = [(2, 3), (4, 7), (9, 11)]"
   ]
  },
  {
   "cell_type": "code",
   "execution_count": 7,
   "metadata": {
    "ExecuteTime": {
     "end_time": "2019-02-13T01:50:52.561123Z",
     "start_time": "2019-02-13T01:50:52.548718Z"
    },
    "collapsed": true
   },
   "outputs": [],
   "source": [
    "mean_x = sum(map(lambda x: x[0], data)) / len(data)\n",
    "mean_y = sum(map(lambda x: x[1], data)) / len(data)"
   ]
  },
  {
   "cell_type": "code",
   "execution_count": 8,
   "metadata": {
    "ExecuteTime": {
     "end_time": "2019-02-13T01:51:11.156585Z",
     "start_time": "2019-02-13T01:51:11.148104Z"
    }
   },
   "outputs": [],
   "source": [
    "var_x = 0\n",
    "for x, _ in data:\n",
    "    var_x += (x - mean_x) ** 2 / len(data)"
   ]
  },
  {
   "cell_type": "code",
   "execution_count": 12,
   "metadata": {
    "ExecuteTime": {
     "end_time": "2019-02-13T01:54:47.283428Z",
     "start_time": "2019-02-13T01:54:47.274921Z"
    }
   },
   "outputs": [],
   "source": [
    "var_xy = 0\n",
    "for x, y in data:\n",
    "    var_xy += (x * y) / len(data)\n",
    "var_xy -= mean_x * mean_y"
   ]
  },
  {
   "cell_type": "code",
   "execution_count": 13,
   "metadata": {
    "ExecuteTime": {
     "end_time": "2019-02-13T01:55:34.443303Z",
     "start_time": "2019-02-13T01:55:34.436013Z"
    },
    "collapsed": true
   },
   "outputs": [],
   "source": [
    "A = var_xy / var_x\n",
    "B = mean_y - A * mean_x"
   ]
  },
  {
   "cell_type": "code",
   "execution_count": 14,
   "metadata": {
    "ExecuteTime": {
     "end_time": "2019-02-13T01:56:11.230026Z",
     "start_time": "2019-02-13T01:56:11.214736Z"
    }
   },
   "outputs": [
    {
     "name": "stdout",
     "output_type": "stream",
     "text": [
      "Y = 1.0769230769230773 x + 1.6153846153846132\n"
     ]
    }
   ],
   "source": [
    "print(\"Y =\", A, \"x +\", B)"
   ]
  }
 ],
 "metadata": {
  "kernelspec": {
   "display_name": "Python 3",
   "language": "python",
   "name": "python3"
  },
  "language_info": {
   "codemirror_mode": {
    "name": "ipython",
    "version": 3
   },
   "file_extension": ".py",
   "mimetype": "text/x-python",
   "name": "python",
   "nbconvert_exporter": "python",
   "pygments_lexer": "ipython3",
   "version": "3.6.2"
  },
  "varInspector": {
   "cols": {
    "lenName": 16,
    "lenType": 16,
    "lenVar": 40
   },
   "kernels_config": {
    "python": {
     "delete_cmd_postfix": "",
     "delete_cmd_prefix": "del ",
     "library": "var_list.py",
     "varRefreshCmd": "print(var_dic_list())"
    },
    "r": {
     "delete_cmd_postfix": ") ",
     "delete_cmd_prefix": "rm(",
     "library": "var_list.r",
     "varRefreshCmd": "cat(var_dic_list()) "
    }
   },
   "types_to_exclude": [
    "module",
    "function",
    "builtin_function_or_method",
    "instance",
    "_Feature"
   ],
   "window_display": false
  }
 },
 "nbformat": 4,
 "nbformat_minor": 2
}
