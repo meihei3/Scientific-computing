{
 "cells": [
  {
   "cell_type": "markdown",
   "metadata": {},
   "source": [
    "# 台形則\n",
    "***"
   ]
  },
  {
   "cell_type": "markdown",
   "metadata": {},
   "source": [
    "### 台形公式"
   ]
  },
  {
   "cell_type": "markdown",
   "metadata": {},
   "source": [
    "範囲[a,b]をn等分して、$h = \\frac {b-a} n$とすると\n",
    "$$\n",
    "S=\\int_a^b f(x) dx \\simeq \\frac h 2 \\left(f(a)+f(x_1)+...+f(x_{n-1})+f(b)\\right) = \\frac h 2 \\left(f(a)+\\sum_{i=1}^{n-1} f(x_k)+f(b)\\right)\n",
    "$$"
   ]
  },
  {
   "cell_type": "code",
   "execution_count": 2,
   "metadata": {},
   "outputs": [],
   "source": [
    "import numpy as np"
   ]
  },
  {
   "cell_type": "code",
   "execution_count": 3,
   "metadata": {},
   "outputs": [],
   "source": [
    "def f(x):\n",
    "    return 4*np.sqrt(1-x**2)"
   ]
  },
  {
   "cell_type": "code",
   "execution_count": 6,
   "metadata": {},
   "outputs": [],
   "source": [
    "def integrate_trape(f, rng=[0,1], n=100):\n",
    "    a, b = rng\n",
    "    S = 0\n",
    "    # n等分した台形の高さ\n",
    "    h = (b - a) / n\n",
    "    for i in range(1, n):\n",
    "        S += f(a + i * h)\n",
    "    S = (h / 2) * (f(a) + 2 * S + f(b))\n",
    "    return S"
   ]
  },
  {
   "cell_type": "code",
   "execution_count": 7,
   "metadata": {},
   "outputs": [
    {
     "name": "stdout",
     "output_type": "stream",
     "text": [
      "S = 3.14041703178\n"
     ]
    }
   ],
   "source": [
    "print(\"S =\", integrate_trape(f))"
   ]
  }
 ],
 "metadata": {
  "kernelspec": {
   "display_name": "Python 3",
   "language": "python",
   "name": "python3"
  },
  "language_info": {
   "codemirror_mode": {
    "name": "ipython",
    "version": 3
   },
   "file_extension": ".py",
   "mimetype": "text/x-python",
   "name": "python",
   "nbconvert_exporter": "python",
   "pygments_lexer": "ipython3",
   "version": "3.6.2"
  }
 },
 "nbformat": 4,
 "nbformat_minor": 2
}
