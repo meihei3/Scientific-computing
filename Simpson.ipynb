{
 "cells": [
  {
   "cell_type": "markdown",
   "metadata": {},
   "source": [
    "# シンプソン則\n",
    "***"
   ]
  },
  {
   "cell_type": "markdown",
   "metadata": {},
   "source": [
    "閉区間［a，b］を2n等分して、$h=\\frac {b-a} {2n}$とすると、各点$x_0=a,x_1=x_0+h,...,x_{2n}=a+2nh(=b)$に対する関数f(x)の値を\n",
    "$$\n",
    "\\begin{align}\n",
    "S=& \\int_a^b f(x) dx \\\\\n",
    "\\simeq &\\frac h 3 \\left(\\,(f(x_0)+f(x_{2n}))+4(f(x_1)+f(x_3)+...+f(x_{2n-1}))+2(f(x_2)+f(x_4)+...+f(x_{2n-2}))\\,\\right)\\\\\n",
    "=& \\frac h 3 \\left(\\,f(x_0)+f(x_{2n})+4\\sum_{j=1}^N f(x_{2j-1})+2\\sum_{j=1}^{N-1} f(x_{2j}))\\,\\right)\n",
    "\\end{align}\n",
    "$$"
   ]
  },
  {
   "cell_type": "code",
   "execution_count": 2,
   "metadata": {},
   "outputs": [],
   "source": [
    "import numpy as np"
   ]
  },
  {
   "cell_type": "code",
   "execution_count": 3,
   "metadata": {},
   "outputs": [],
   "source": [
    "def f(x):\n",
    "    return 4*np.sqrt(1-x**2)"
   ]
  },
  {
   "cell_type": "code",
   "execution_count": 4,
   "metadata": {},
   "outputs": [],
   "source": [
    "def integrate_simpson(f, rng=[0,1], n=100):\n",
    "    a, b = rng\n",
    "    S = 0\n",
    "    h = (b - a) / (2 * n)\n",
    "    s0 = f(a)\n",
    "    s1 = f(b)\n",
    "    s2 = 0\n",
    "    for j in range(1, 2*n, 2):\n",
    "        s2 += f(a + h * j)\n",
    "    s3 = 0\n",
    "    for j in range(2, 2*n-2, 2):\n",
    "        s3 += f(a + h * j)\n",
    "    return (h / 3) * (s0 + s1 + 4*s2 + 2*s3)"
   ]
  },
  {
   "cell_type": "code",
   "execution_count": 5,
   "metadata": {},
   "outputs": [
    {
     "name": "stdout",
     "output_type": "stream",
     "text": [
      "S = 3.13954935106\n"
     ]
    }
   ],
   "source": [
    "print(\"S =\", integrate_simpson(f))"
   ]
  }
 ],
 "metadata": {
  "kernelspec": {
   "display_name": "Python 3",
   "language": "python",
   "name": "python3"
  },
  "language_info": {
   "codemirror_mode": {
    "name": "ipython",
    "version": 3
   },
   "file_extension": ".py",
   "mimetype": "text/x-python",
   "name": "python",
   "nbconvert_exporter": "python",
   "pygments_lexer": "ipython3",
   "version": "3.6.2"
  }
 },
 "nbformat": 4,
 "nbformat_minor": 2
}
