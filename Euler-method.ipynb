{
 "cells": [
  {
   "cell_type": "markdown",
   "metadata": {},
   "source": [
    "一次の常微分方程式 $\\frac {dy} {dt}= y’(t)=F(t,y(t))$の解$y(t)=f(t)$をオイラー法で求める。"
   ]
  },
  {
   "cell_type": "markdown",
   "metadata": {},
   "source": [
    "# オイラー法\n",
    "***"
   ]
  },
  {
   "cell_type": "markdown",
   "metadata": {},
   "source": [
    "初期値$y_0=y(t_0)$でｔを$t_0<=t<=t_n$の範囲で求める"
   ]
  },
  {
   "cell_type": "markdown",
   "metadata": {},
   "source": [
    "$t=t_nのとき、y(t)=y_n, y'(t)=y'_nとすると、y_{n+1}は$  \n",
    "$y_{n+1} = y_n + h * F(t_n, y_n)となる$  \n",
    "ただし、$h=\\frac {t_n - t_0} n$"
   ]
  },
  {
   "cell_type": "code",
   "execution_count": 1,
   "metadata": {},
   "outputs": [],
   "source": [
    "import numpy as np"
   ]
  },
  {
   "cell_type": "code",
   "execution_count": 2,
   "metadata": {},
   "outputs": [],
   "source": [
    "def F(x, y):\n",
    "    return 1 - y ** 2"
   ]
  },
  {
   "cell_type": "code",
   "execution_count": 3,
   "metadata": {},
   "outputs": [],
   "source": [
    "def euler(F, y0=0, t0=0, tn=1, n=100):\n",
    "    dic = {}  # 結果にアクセスできるようにするための辞書\n",
    "    l = len(str(n-1))  # fの引数調整用の値\n",
    "    \n",
    "    h = (tn - t0) / n\n",
    "    y = y0\n",
    "    for i in np.arange(t0, tn+h, h):\n",
    "        t = round(i, l)  # fの引数調整用の値\n",
    "        # print(\"t = {:.8f}, y(t) = {:.6f}\".format(t, y))\n",
    "        dic[t] = y\n",
    "        \n",
    "        y = y + h * F(t, y)\n",
    "    \n",
    "    # 関数っぽい見た目にする関数\n",
    "    def outer(data={}):\n",
    "        def f(x):\n",
    "            return data[x]\n",
    "        return f\n",
    "    return outer(dic)"
   ]
  },
  {
   "cell_type": "code",
   "execution_count": 4,
   "metadata": {},
   "outputs": [
    {
     "name": "stdout",
     "output_type": "stream",
     "text": [
      "x: 0.0   f(x): 0\n",
      "x: 0.1   f(x): 0.09971582703046633\n",
      "x: 0.2   f(x): 0.1975635390885265\n",
      "x: 0.3   f(x): 0.29171531805781875\n",
      "x: 0.4   f(x): 0.38061342204122967\n",
      "x: 0.5   f(x): 0.4630605433708075\n",
      "x: 0.6   f(x): 0.5382607132470888\n",
      "x: 0.7   f(x): 0.6058127159467236\n",
      "x: 0.8   f(x): 0.6656662602709561\n",
      "x: 0.9   f(x): 0.7180551798547711\n",
      "x: 1.0   f(x): 0.7634218261452396\n"
     ]
    }
   ],
   "source": [
    "x0, xn = (0, 1)\n",
    "f = euler(F, y0=0, t0=x0, tn=xn)\n",
    "\n",
    "for i in range(0, 11):\n",
    "    x = i/10\n",
    "    print(\"x:\", x, \"  f(x):\", f(x))"
   ]
  },
  {
   "cell_type": "code",
   "execution_count": null,
   "metadata": {},
   "outputs": [],
   "source": []
  }
 ],
 "metadata": {
  "kernelspec": {
   "display_name": "Python 3",
   "language": "python",
   "name": "python3"
  },
  "language_info": {
   "codemirror_mode": {
    "name": "ipython",
    "version": 3
   },
   "file_extension": ".py",
   "mimetype": "text/x-python",
   "name": "python",
   "nbconvert_exporter": "python",
   "pygments_lexer": "ipython3",
   "version": "3.6.2"
  }
 },
 "nbformat": 4,
 "nbformat_minor": 2
}
