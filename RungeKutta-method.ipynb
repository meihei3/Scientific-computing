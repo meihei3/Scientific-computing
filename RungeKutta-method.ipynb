{
 "cells": [
  {
   "cell_type": "markdown",
   "metadata": {},
   "source": [
    "# ルンゲクッタ法\n",
    "***"
   ]
  },
  {
   "cell_type": "markdown",
   "metadata": {},
   "source": [
    "$\\frac {dy} {dt} = F(t, y)$において、tが$t_iからt_{i+1}までｈだけ増加するときｈをステップ幅という$この時以下の式が成り立つ。"
   ]
  },
  {
   "cell_type": "markdown",
   "metadata": {},
   "source": [
    "$t_{i+1}=t_i+h\\\\y_{i+1}=y_i+k\\\\k=\\frac h 6 (k_0+2k_1+2k_2+k_3)$"
   ]
  },
  {
   "cell_type": "markdown",
   "metadata": {},
   "source": [
    "ただし、$k_0, k_1, k_2, k_3$は、次のとおりである。\n",
    "$$\n",
    "\\begin{align}\n",
    "k_0 = \\,& F(t_i, y_i)\\\\\n",
    "k_1 = \\,& F(t_i+ \\frac h 2, y_i+ \\frac {k_0} 2)\\\\\n",
    "k_2 = \\,& F(t_i+ \\frac h 2, y_i+ \\frac {k_1} 2)\\\\\n",
    "k_3 = \\,& F(t_i+ h, y_i+ k_2)\\\\\n",
    "\\end{align}\n",
    "$$"
   ]
  },
  {
   "cell_type": "code",
   "execution_count": 1,
   "metadata": {},
   "outputs": [],
   "source": [
    "import numpy as np"
   ]
  },
  {
   "cell_type": "code",
   "execution_count": 2,
   "metadata": {},
   "outputs": [],
   "source": [
    "def F(x, y):\n",
    "    return 9.8"
   ]
  },
  {
   "cell_type": "code",
   "execution_count": null,
   "metadata": {},
   "outputs": [],
   "source": [
    "def runge_kutta(F, y0, t0, tn, n=100)"
   ]
  }
 ],
 "metadata": {
  "kernelspec": {
   "display_name": "Python 3",
   "language": "python",
   "name": "python3"
  },
  "language_info": {
   "codemirror_mode": {
    "name": "ipython",
    "version": 3
   },
   "file_extension": ".py",
   "mimetype": "text/x-python",
   "name": "python",
   "nbconvert_exporter": "python",
   "pygments_lexer": "ipython3",
   "version": "3.6.2"
  }
 },
 "nbformat": 4,
 "nbformat_minor": 2
}
