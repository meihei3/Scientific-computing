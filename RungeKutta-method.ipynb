{
 "cells": [
  {
   "cell_type": "markdown",
   "metadata": {},
   "source": [
    "# ルンゲクッタ法\n",
    "***"
   ]
  },
  {
   "cell_type": "markdown",
   "metadata": {},
   "source": [
    "$\\frac {dy} {dt} = F(t, y)$において、tが$t_iからt_{i+1}までｈだけ増加するときｈをステップ幅という$この時以下の式が成り立つ。"
   ]
  },
  {
   "cell_type": "markdown",
   "metadata": {},
   "source": [
    "$t_{i+1}=t_i+h\\\\y_{i+1}=y_i+k\\\\k=\\frac h 6 (k_0+2k_1+2k_2+k_3)$"
   ]
  },
  {
   "cell_type": "markdown",
   "metadata": {},
   "source": [
    "ただし、$k_0, k_1, k_2, k_3$は、次のとおりである。\n",
    "$$\n",
    "\\begin{align}\n",
    "k_0 = \\,& F(t_i, y_i)\\\\\n",
    "k_1 = \\,& F(t_i+ \\frac h 2, y_i+ \\frac {k_0} 2)\\\\\n",
    "k_2 = \\,& F(t_i+ \\frac h 2, y_i+ \\frac {k_1} 2)\\\\\n",
    "k_3 = \\,& F(t_i+ h, y_i+ k_2)\\\\\n",
    "\\end{align}\n",
    "$$"
   ]
  },
  {
   "cell_type": "code",
   "execution_count": 1,
   "metadata": {},
   "outputs": [],
   "source": [
    "import numpy as np"
   ]
  },
  {
   "cell_type": "code",
   "execution_count": 3,
   "metadata": {},
   "outputs": [],
   "source": [
    "def F(x, y):\n",
    "    return 1 - y ** 2"
   ]
  },
  {
   "cell_type": "code",
   "execution_count": 7,
   "metadata": {},
   "outputs": [
    {
     "name": "stdout",
     "output_type": "stream",
     "text": [
      "t = 0.00, y(t) = 0.000000\n",
      "t = 0.02, y(t) = 0.014934\n",
      "t = 0.04, y(t) = 0.029676\n",
      "t = 0.06, y(t) = 0.044225\n",
      "t = 0.08, y(t) = 0.058580\n",
      "t = 0.10, y(t) = 0.072741\n",
      "t = 0.12, y(t) = 0.086708\n",
      "t = 0.14, y(t) = 0.100481\n",
      "t = 0.16, y(t) = 0.114060\n",
      "t = 0.18, y(t) = 0.127445\n",
      "t = 0.20, y(t) = 0.140638\n",
      "t = 0.22, y(t) = 0.153639\n",
      "t = 0.24, y(t) = 0.166449\n",
      "t = 0.26, y(t) = 0.179070\n",
      "t = 0.28, y(t) = 0.191501\n",
      "t = 0.30, y(t) = 0.203746\n",
      "t = 0.32, y(t) = 0.215805\n",
      "t = 0.34, y(t) = 0.227680\n",
      "t = 0.36, y(t) = 0.239373\n",
      "t = 0.38, y(t) = 0.250886\n",
      "t = 0.40, y(t) = 0.262219\n",
      "t = 0.42, y(t) = 0.273376\n",
      "t = 0.44, y(t) = 0.284358\n",
      "t = 0.46, y(t) = 0.295168\n",
      "t = 0.48, y(t) = 0.305807\n",
      "t = 0.50, y(t) = 0.316277\n",
      "t = 0.52, y(t) = 0.326581\n",
      "t = 0.54, y(t) = 0.336721\n",
      "t = 0.56, y(t) = 0.346700\n",
      "t = 0.58, y(t) = 0.356518\n",
      "t = 0.60, y(t) = 0.366179\n",
      "t = 0.62, y(t) = 0.375685\n",
      "t = 0.64, y(t) = 0.385039\n",
      "t = 0.66, y(t) = 0.394241\n",
      "t = 0.68, y(t) = 0.403296\n",
      "t = 0.70, y(t) = 0.412204\n",
      "t = 0.72, y(t) = 0.420969\n",
      "t = 0.74, y(t) = 0.429592\n",
      "t = 0.76, y(t) = 0.438076\n",
      "t = 0.78, y(t) = 0.446423\n",
      "t = 0.80, y(t) = 0.454635\n",
      "t = 0.82, y(t) = 0.462714\n",
      "t = 0.84, y(t) = 0.470663\n",
      "t = 0.86, y(t) = 0.478484\n",
      "t = 0.88, y(t) = 0.486179\n",
      "t = 0.90, y(t) = 0.493750\n",
      "t = 0.92, y(t) = 0.501199\n",
      "t = 0.94, y(t) = 0.508529\n",
      "t = 0.96, y(t) = 0.515740\n",
      "t = 0.98, y(t) = 0.522836\n",
      "t = 1.00, y(t) = 0.529818\n"
     ]
    }
   ],
   "source": [
    "def runge_kutta(F, y0=0, t0=0, tn=1, n=100):\n",
    "    h = (tn - t0) / n\n",
    "    y = y0\n",
    "    \n",
    "    for i in np.arange(t0, tn+h, h):\n",
    "        k0 = F(i, y)\n",
    "        k1 = F(i+h/2, y+k0/2)\n",
    "        k2 = F(i+h/2, y+k1/2)\n",
    "        k3 = F(i+h, y+k2)\n",
    "        \n",
    "        print(\"t = {:.2f}, y(t) = {:.6f}\".format(i, y))\n",
    "        y = y + (h/6) * (k0 + 2*k1 + 2*k2 + k3)\n",
    "        \n",
    "\n",
    "runge_kutta(F, n=50)"
   ]
  },
  {
   "cell_type": "code",
   "execution_count": null,
   "metadata": {},
   "outputs": [],
   "source": []
  }
 ],
 "metadata": {
  "kernelspec": {
   "display_name": "Python 3",
   "language": "python",
   "name": "python3"
  },
  "language_info": {
   "codemirror_mode": {
    "name": "ipython",
    "version": 3
   },
   "file_extension": ".py",
   "mimetype": "text/x-python",
   "name": "python",
   "nbconvert_exporter": "python",
   "pygments_lexer": "ipython3",
   "version": "3.6.2"
  }
 },
 "nbformat": 4,
 "nbformat_minor": 2
}
