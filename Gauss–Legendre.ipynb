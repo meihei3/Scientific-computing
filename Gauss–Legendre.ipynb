{
 "cells": [
  {
   "cell_type": "markdown",
   "metadata": {},
   "source": [
    "# ガウス・ルジャンドル積分法\n",
    "***"
   ]
  },
  {
   "cell_type": "markdown",
   "metadata": {},
   "source": [
    "区間［a, b］についての積分は、ガウス求積法を適用する前に［−1, 1］に変更する必要がある。この区間変更は以下のように行う。\n",
    "$$\n",
    "S = \\int _{a}^{b}f(x)\\,dx={\\frac {b-a}{2}}\\int _{-1}^{1}f\\left({\\frac {b-a}{2}}x+{\\frac {a+b}{2}}\\right)\\,dx\n",
    "$$\n",
    "ガウス求積法を適用後、以下の近似が得られる。\n",
    "$$\n",
    "S \\simeq \\frac {b-a}{2}\\sum _{i=1}^{n}w_{i}\\, f\\left({\\frac {b-a}{2}}x_{i}+{\\frac {a+b}{2}}\\right)\n",
    "$$"
   ]
  },
  {
   "cell_type": "markdown",
   "metadata": {},
   "source": [
    "$w_i$と$x_i$はn次のルジャンドル多項式$P_n(x)$が対応している。この値は一意に決まるので、定数化する。"
   ]
  },
  {
   "cell_type": "code",
   "execution_count": 1,
   "metadata": {},
   "outputs": [],
   "source": [
    "import numpy as np"
   ]
  },
  {
   "cell_type": "code",
   "execution_count": 2,
   "metadata": {},
   "outputs": [],
   "source": [
    "def f(x):\n",
    "    return 4*np.sqrt(1-x**2)"
   ]
  },
  {
   "cell_type": "code",
   "execution_count": 3,
   "metadata": {},
   "outputs": [],
   "source": [
    "x_i = {\n",
    "    1: [0.],\n",
    "    2: [-0.57735, 0.57735],\n",
    "    3: [-0.774597, 0., 0.774597],\n",
    "    4: [-0.861136, -0.339981, 0.339981, 0.861136],\n",
    "    5: [-0.90618, -0.538469, 0., 0.538469, 0.90618]\n",
    "}\n",
    "\n",
    "w_i = {\n",
    "    1: [2.],\n",
    "    2: [1., 1.],\n",
    "    3: [0.555556, 0.888889, 0.555556],\n",
    "    4: [0.34785, 0.652145, 0.652145, 0.34785],\n",
    "    5: [0.236927, 0.478629, 0.568889, 0.478629, 0.236927]\n",
    "}"
   ]
  },
  {
   "cell_type": "code",
   "execution_count": 4,
   "metadata": {},
   "outputs": [],
   "source": [
    "def gauss_legendre(f, rng=[0, 1], n=4):\n",
    "    a, b = rng\n",
    "    s = 0\n",
    "    for w, x in zip(w_i[n], x_i[n]):\n",
    "        s += w * f((b-a)/2*x + (a+b)/2)\n",
    "    return (b-a)/2 * s"
   ]
  },
  {
   "cell_type": "code",
   "execution_count": 5,
   "metadata": {},
   "outputs": [
    {
     "name": "stdout",
     "output_type": "stream",
     "text": [
      "S = 3.1482160153\n"
     ]
    }
   ],
   "source": [
    "print(\"S =\", gauss_legendre(f))"
   ]
  },
  {
   "cell_type": "code",
   "execution_count": null,
   "metadata": {},
   "outputs": [],
   "source": []
  }
 ],
 "metadata": {
  "kernelspec": {
   "display_name": "Python 3",
   "language": "python",
   "name": "python3"
  },
  "language_info": {
   "codemirror_mode": {
    "name": "ipython",
    "version": 3
   },
   "file_extension": ".py",
   "mimetype": "text/x-python",
   "name": "python",
   "nbconvert_exporter": "python",
   "pygments_lexer": "ipython3",
   "version": "3.6.2"
  }
 },
 "nbformat": 4,
 "nbformat_minor": 2
}
